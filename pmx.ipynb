{
 "cells": [
  {
   "cell_type": "code",
   "execution_count": 25,
   "id": "cc0c0cbd",
   "metadata": {},
   "outputs": [
    {
     "name": "stdout",
     "output_type": "stream",
     "text": [
      "4 8\n",
      "[[6, 0], [8, 1], [1, 4], [3, 6]]\n",
      "[5 7 0 9 6 8 1 3 2 4]\n",
      "[9 8 3 7 0 1 4 6 5 2]\n"
     ]
    }
   ],
   "source": [
    "import numpy as np\n",
    "\n",
    "parent1 = [5,7,3,9,0,1,4,6,2,8]\n",
    "parent2 = [9,4,0,7,6,8,1,3,5,2]\n",
    "\n",
    "#parent1 = [1,2,3,4,5,6,7,8,9]\n",
    "#parent2 = [9,3,7,8,2,6,5,1,4]\n",
    "\n",
    "firstCrossPoint = 4\n",
    "secondCrossPoint = 8\n",
    "\n",
    "print(firstCrossPoint, secondCrossPoint)\n",
    "\n",
    "parent1MiddleCross = parent1[firstCrossPoint:secondCrossPoint]\n",
    "parent2MiddleCross = parent2[firstCrossPoint:secondCrossPoint]\n",
    "\n",
    "temp_child1 = parent1[:firstCrossPoint] + parent2MiddleCross + parent1[secondCrossPoint:]\n",
    "\n",
    "temp_child2 = parent2[:firstCrossPoint] + parent1MiddleCross + parent2[secondCrossPoint:]\n",
    "\n",
    "relations = []\n",
    "for i in range(len(parent1MiddleCross)):\n",
    "    relations.append([parent2MiddleCross[i], parent1MiddleCross[i]])\n",
    "\n",
    "print(relations)\n",
    "\n",
    "def recursion1 (temp_child , firstCrossPoint , secondCrossPoint , parent1MiddleCross , parent2MiddleCross) :\n",
    "    child = np.array([0 for i in range(len(parent1))])\n",
    "    for i,j in enumerate(temp_child[:firstCrossPoint]):\n",
    "        c=0\n",
    "        for x in relations:\n",
    "            if j == x[0]:\n",
    "                child[i]=x[1]\n",
    "                c=1\n",
    "                break\n",
    "        if c==0:\n",
    "            child[i]=j\n",
    "    j=0\n",
    "    for i in range(firstCrossPoint,secondCrossPoint):\n",
    "        child[i]=parent2MiddleCross[j]\n",
    "        j+=1\n",
    "\n",
    "    for i,j in enumerate(temp_child[secondCrossPoint:]):\n",
    "        c=0\n",
    "        for x in relations:\n",
    "            if j == x[0]:\n",
    "                child[i+secondCrossPoint]=x[1]\n",
    "                c=1\n",
    "                break\n",
    "        if c==0:\n",
    "            child[i+secondCrossPoint]=j\n",
    "    child_unique=np.unique(child)\n",
    "    if len(child)>len(child_unique):\n",
    "        child=recursion1(child,firstCrossPoint,secondCrossPoint,parent1MiddleCross,parent2MiddleCross)\n",
    "    return(child)\n",
    "\n",
    "def recursion2(temp_child,firstCrossPoint,secondCrossPoint,parent1MiddleCross,parent2MiddleCross):\n",
    "    child = np.array([0 for i in range(len(parent1))])\n",
    "    for i,j in enumerate(temp_child[:firstCrossPoint]):\n",
    "        c=0\n",
    "        for x in relations:\n",
    "            if j == x[1]:\n",
    "                child[i]=x[0]\n",
    "                c=1\n",
    "                break\n",
    "        if c==0:\n",
    "            child[i]=j\n",
    "    j=0\n",
    "    for i in range(firstCrossPoint,secondCrossPoint):\n",
    "        child[i]=parent1MiddleCross[j]\n",
    "        j+=1\n",
    "\n",
    "    for i,j in enumerate(temp_child[secondCrossPoint:]):\n",
    "        c=0\n",
    "        for x in relations:\n",
    "            if j == x[1]:\n",
    "                child[i+secondCrossPoint]=x[0]\n",
    "                c=1\n",
    "                break\n",
    "        if c==0:\n",
    "            child[i+secondCrossPoint]=j\n",
    "    child_unique=np.unique(child)\n",
    "    if len(child)>len(child_unique):\n",
    "        child=recursion2(child,firstCrossPoint,secondCrossPoint,parent1MiddleCross,parent2MiddleCross)\n",
    "    return(child)\n",
    "\n",
    "child1=recursion1(temp_child1,firstCrossPoint,secondCrossPoint,parent1MiddleCross,parent2MiddleCross)\n",
    "child2=recursion2(temp_child2,firstCrossPoint,secondCrossPoint,parent1MiddleCross,parent2MiddleCross)\n",
    "\n",
    "print(child1)\n",
    "print(child2)\n",
    "    "
   ]
  },
  {
   "cell_type": "code",
   "execution_count": 13,
   "id": "77b4e3b7",
   "metadata": {
    "collapsed": true
   },
   "outputs": [
    {
     "ename": "IndexError",
     "evalue": "list assignment index out of range",
     "output_type": "error",
     "traceback": [
      "\u001b[0;31m---------------------------------------------------------------------------\u001b[0m",
      "\u001b[0;31mIndexError\u001b[0m                                Traceback (most recent call last)",
      "\u001b[0;32m/var/folders/w1/3q5d3wr52xx5qcl955q4swyc0000gn/T/ipykernel_9060/4110352958.py\u001b[0m in \u001b[0;36m<module>\u001b[0;34m\u001b[0m\n\u001b[1;32m      2\u001b[0m     \u001b[0mp1\u001b[0m\u001b[0;34m=\u001b[0m\u001b[0;34m[\u001b[0m\u001b[0;36m1\u001b[0m\u001b[0;34m,\u001b[0m\u001b[0;36m2\u001b[0m\u001b[0;34m,\u001b[0m\u001b[0;36m3\u001b[0m\u001b[0;34m,\u001b[0m\u001b[0;36m4\u001b[0m\u001b[0;34m,\u001b[0m\u001b[0;36m5\u001b[0m\u001b[0;34m,\u001b[0m\u001b[0;36m6\u001b[0m\u001b[0;34m,\u001b[0m\u001b[0;36m7\u001b[0m\u001b[0;34m,\u001b[0m\u001b[0;36m8\u001b[0m\u001b[0;34m,\u001b[0m\u001b[0;36m9\u001b[0m\u001b[0;34m]\u001b[0m\u001b[0;34m\u001b[0m\u001b[0;34m\u001b[0m\u001b[0m\n\u001b[1;32m      3\u001b[0m     \u001b[0mp2\u001b[0m\u001b[0;34m=\u001b[0m\u001b[0;34m[\u001b[0m\u001b[0;36m9\u001b[0m\u001b[0;34m,\u001b[0m\u001b[0;36m8\u001b[0m\u001b[0;34m,\u001b[0m\u001b[0;36m7\u001b[0m\u001b[0;34m,\u001b[0m\u001b[0;36m6\u001b[0m\u001b[0;34m,\u001b[0m\u001b[0;36m5\u001b[0m\u001b[0;34m,\u001b[0m\u001b[0;36m4\u001b[0m\u001b[0;34m,\u001b[0m\u001b[0;36m3\u001b[0m\u001b[0;34m,\u001b[0m\u001b[0;36m2\u001b[0m\u001b[0;34m,\u001b[0m\u001b[0;36m1\u001b[0m\u001b[0;34m]\u001b[0m\u001b[0;34m\u001b[0m\u001b[0;34m\u001b[0m\u001b[0m\n\u001b[0;32m----> 4\u001b[0;31m     \u001b[0mprint\u001b[0m\u001b[0;34m(\u001b[0m\u001b[0mcxPartialyMatched\u001b[0m\u001b[0;34m(\u001b[0m\u001b[0mp1\u001b[0m\u001b[0;34m,\u001b[0m\u001b[0mp2\u001b[0m\u001b[0;34m)\u001b[0m\u001b[0;34m)\u001b[0m\u001b[0;34m\u001b[0m\u001b[0;34m\u001b[0m\u001b[0m\n\u001b[0m",
      "\u001b[0;32m/var/folders/w1/3q5d3wr52xx5qcl955q4swyc0000gn/T/ipykernel_9060/2580832301.py\u001b[0m in \u001b[0;36mcxPartialyMatched\u001b[0;34m(ind1, ind2)\u001b[0m\n\u001b[1;32m     21\u001b[0m     \u001b[0;32mfor\u001b[0m \u001b[0mi\u001b[0m \u001b[0;32min\u001b[0m \u001b[0mrange\u001b[0m\u001b[0;34m(\u001b[0m\u001b[0msize\u001b[0m\u001b[0;34m)\u001b[0m\u001b[0;34m:\u001b[0m\u001b[0;34m\u001b[0m\u001b[0;34m\u001b[0m\u001b[0m\n\u001b[1;32m     22\u001b[0m         \u001b[0mp1\u001b[0m\u001b[0;34m[\u001b[0m\u001b[0mind1\u001b[0m\u001b[0;34m[\u001b[0m\u001b[0mi\u001b[0m\u001b[0;34m]\u001b[0m\u001b[0;34m]\u001b[0m \u001b[0;34m=\u001b[0m \u001b[0mi\u001b[0m\u001b[0;34m\u001b[0m\u001b[0;34m\u001b[0m\u001b[0m\n\u001b[0;32m---> 23\u001b[0;31m         \u001b[0mp2\u001b[0m\u001b[0;34m[\u001b[0m\u001b[0mind2\u001b[0m\u001b[0;34m[\u001b[0m\u001b[0mi\u001b[0m\u001b[0;34m]\u001b[0m\u001b[0;34m]\u001b[0m \u001b[0;34m=\u001b[0m \u001b[0mi\u001b[0m\u001b[0;34m\u001b[0m\u001b[0;34m\u001b[0m\u001b[0m\n\u001b[0m\u001b[1;32m     24\u001b[0m         \u001b[0mprint\u001b[0m\u001b[0;34m(\u001b[0m\u001b[0mp1\u001b[0m\u001b[0;34m)\u001b[0m\u001b[0;34m\u001b[0m\u001b[0;34m\u001b[0m\u001b[0m\n\u001b[1;32m     25\u001b[0m     \u001b[0;31m# Choose crossover points\u001b[0m\u001b[0;34m\u001b[0m\u001b[0;34m\u001b[0m\u001b[0m\n",
      "\u001b[0;31mIndexError\u001b[0m: list assignment index out of range"
     ]
    }
   ],
   "source": []
  },
  {
   "cell_type": "code",
   "execution_count": null,
   "id": "0c48de42",
   "metadata": {},
   "outputs": [],
   "source": []
  }
 ],
 "metadata": {
  "kernelspec": {
   "display_name": "Python 3 (ipykernel)",
   "language": "python",
   "name": "python3"
  },
  "language_info": {
   "codemirror_mode": {
    "name": "ipython",
    "version": 3
   },
   "file_extension": ".py",
   "mimetype": "text/x-python",
   "name": "python",
   "nbconvert_exporter": "python",
   "pygments_lexer": "ipython3",
   "version": "3.9.7"
  }
 },
 "nbformat": 4,
 "nbformat_minor": 5
}
